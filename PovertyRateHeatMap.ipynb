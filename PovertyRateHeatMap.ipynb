{
 "cells": [
  {
   "cell_type": "code",
   "execution_count": 1,
   "metadata": {
    "scrolled": true
   },
   "outputs": [],
   "source": [
    "\n",
    "#dependencies\n",
    "import requests\n",
    "import json\n",
    "import pandas as pd\n",
    "import gmaps\n",
    "\n",
    "# Google API Key\n",
    "from config import gkey\n",
    "\n",
    "# import gmaps.datasets\n",
    "\n",
    "# Configure gmaps\n",
    "# gmaps.configure(api_key=gkey)\n",
    "\n"
   ]
  },
  {
   "cell_type": "code",
   "execution_count": 2,
   "metadata": {},
   "outputs": [],
   "source": [
    "zip_codes = [\"75001\",\"75006\",\"75019\",\"75038\",\"75039\",\"75040\",\"75041\",\"75042\",\"75043\",\"75044\",\"75048\",\"75050\",\"75051\",\"75052\",\"75054\",\"75060\",\"75061\",\"75062\",\"75063\",\"75080\",\"75081\",\"75082\",\"75088\",\"75089\",\"75104\",\"75115\",\"75116\",\"75134\",\"75137\",\"75141\",\"75146\",\"75149\",\"75150\",\"75159\",\"75172\",\"75180\",\"75181\",\"75182\",\"75201\",\"75202\",\"75203\",\"75204\",\"75205\",\"75206\",\"75207\",\"75208\",\"75209\",\"75210\",\"75211\",\"75212\",\"75214\",\"75215\",\"75216\",\"75217\",\"75218\",\"75219\",\"75220\",\"75223\",\"75224\",\"75225\",\"75226\",\"75227\",\"75228\",\"75229\",\"75230\",\"75231\",\"75232\",\"75233\",\"75234\",\"75235\",\"75236\",\"75237\",\"75238\",\"75240\",\"75241\",\"75243\",\"75244\",\"75246\",\"75247\",\"75248\",\"75249\",\"75251\",\"75253\",\"75254\",\"75270\",\"75390\"]\n",
    "zip_code_details = []\n",
    "\n",
    "census = pd.read_csv(\"Resources/DallasCensusData.csv\")\n",
    "\n",
    "\n",
    "gmaps.configure(api_key=gkey)\n",
    "# Target city\n",
    "def get_coordinates_per_zipcode(zip_code):\n",
    "    target_county = zip_code\n",
    "    # Build the endpoint URL\n",
    "    target_url = ('https://maps.googleapis.com/maps/api/geocode/json?'\n",
    "        'address={0}&key={1}').format(target_county, gkey)\n",
    "    data = requests.get(target_url).json()\n",
    "    return data\n",
    "for zip_code in zip_codes:\n",
    "    data = get_coordinates_per_zipcode(zip_code)\n",
    "    code = int(data[\"results\"][0][\"address_components\"][0][\"long_name\"])\n",
    "    lat = data[\"results\"][0][\"geometry\"][\"location\"][\"lat\"]\n",
    "    lng = data[\"results\"][0][\"geometry\"][\"location\"][\"lng\"]\n",
    "    zip_code_details.append({\"zip_code\": code, \"lat\": lat, \"lng\":lng})\n"
   ]
  },
  {
   "cell_type": "code",
   "execution_count": 3,
   "metadata": {},
   "outputs": [
    {
     "data": {
      "text/html": [
       "<div>\n",
       "<style scoped>\n",
       "    .dataframe tbody tr th:only-of-type {\n",
       "        vertical-align: middle;\n",
       "    }\n",
       "\n",
       "    .dataframe tbody tr th {\n",
       "        vertical-align: top;\n",
       "    }\n",
       "\n",
       "    .dataframe thead th {\n",
       "        text-align: right;\n",
       "    }\n",
       "</style>\n",
       "<table border=\"1\" class=\"dataframe\">\n",
       "  <thead>\n",
       "    <tr style=\"text-align: right;\">\n",
       "      <th></th>\n",
       "      <th>zip_code</th>\n",
       "      <th>lat</th>\n",
       "      <th>lng</th>\n",
       "    </tr>\n",
       "  </thead>\n",
       "  <tbody>\n",
       "    <tr>\n",
       "      <td>0</td>\n",
       "      <td>75001</td>\n",
       "      <td>32.965478</td>\n",
       "      <td>-96.829740</td>\n",
       "    </tr>\n",
       "    <tr>\n",
       "      <td>1</td>\n",
       "      <td>75006</td>\n",
       "      <td>32.967845</td>\n",
       "      <td>-96.888720</td>\n",
       "    </tr>\n",
       "    <tr>\n",
       "      <td>2</td>\n",
       "      <td>75019</td>\n",
       "      <td>32.961876</td>\n",
       "      <td>-96.996092</td>\n",
       "    </tr>\n",
       "    <tr>\n",
       "      <td>3</td>\n",
       "      <td>75038</td>\n",
       "      <td>32.872152</td>\n",
       "      <td>-96.996092</td>\n",
       "    </tr>\n",
       "    <tr>\n",
       "      <td>4</td>\n",
       "      <td>75039</td>\n",
       "      <td>32.891677</td>\n",
       "      <td>-96.947753</td>\n",
       "    </tr>\n",
       "  </tbody>\n",
       "</table>\n",
       "</div>"
      ],
      "text/plain": [
       "   zip_code        lat        lng\n",
       "0     75001  32.965478 -96.829740\n",
       "1     75006  32.967845 -96.888720\n",
       "2     75019  32.961876 -96.996092\n",
       "3     75038  32.872152 -96.996092\n",
       "4     75039  32.891677 -96.947753"
      ]
     },
     "execution_count": 3,
     "metadata": {},
     "output_type": "execute_result"
    }
   ],
   "source": [
    "zips_df = pd.DataFrame(zip_code_details, columns = [\"zip_code\",\"lat\",\"lng\"])\n",
    "zips_df.head()"
   ]
  },
  {
   "cell_type": "code",
   "execution_count": 4,
   "metadata": {},
   "outputs": [],
   "source": [
    "zips_df.to_csv(\"ZipcodeGeoLocation.csv\", index=False)"
   ]
  },
  {
   "cell_type": "code",
   "execution_count": 5,
   "metadata": {},
   "outputs": [
    {
     "data": {
      "text/html": [
       "<div>\n",
       "<style scoped>\n",
       "    .dataframe tbody tr th:only-of-type {\n",
       "        vertical-align: middle;\n",
       "    }\n",
       "\n",
       "    .dataframe tbody tr th {\n",
       "        vertical-align: top;\n",
       "    }\n",
       "\n",
       "    .dataframe thead th {\n",
       "        text-align: right;\n",
       "    }\n",
       "</style>\n",
       "<table border=\"1\" class=\"dataframe\">\n",
       "  <thead>\n",
       "    <tr style=\"text-align: right;\">\n",
       "      <th></th>\n",
       "      <th>Zipcode</th>\n",
       "      <th>Population</th>\n",
       "      <th>Median Age</th>\n",
       "      <th>Household Income</th>\n",
       "      <th>Per Capita Income</th>\n",
       "      <th>Poverty Count</th>\n",
       "      <th>Poverty Rate</th>\n",
       "      <th>Unemployment Count</th>\n",
       "      <th>City</th>\n",
       "      <th>zip_code</th>\n",
       "      <th>lat</th>\n",
       "      <th>lng</th>\n",
       "    </tr>\n",
       "  </thead>\n",
       "  <tbody>\n",
       "    <tr>\n",
       "      <td>0</td>\n",
       "      <td>75001</td>\n",
       "      <td>13214.0</td>\n",
       "      <td>32.2</td>\n",
       "      <td>57633.0</td>\n",
       "      <td>43919.0</td>\n",
       "      <td>1722.0</td>\n",
       "      <td>13.031633</td>\n",
       "      <td>433.0</td>\n",
       "      <td>Addison</td>\n",
       "      <td>75001</td>\n",
       "      <td>32.965478</td>\n",
       "      <td>-96.829740</td>\n",
       "    </tr>\n",
       "    <tr>\n",
       "      <td>1</td>\n",
       "      <td>75006</td>\n",
       "      <td>47590.0</td>\n",
       "      <td>34.8</td>\n",
       "      <td>56985.0</td>\n",
       "      <td>27010.0</td>\n",
       "      <td>6927.0</td>\n",
       "      <td>14.555579</td>\n",
       "      <td>1996.0</td>\n",
       "      <td>Carrollton</td>\n",
       "      <td>75006</td>\n",
       "      <td>32.967845</td>\n",
       "      <td>-96.888720</td>\n",
       "    </tr>\n",
       "    <tr>\n",
       "      <td>2</td>\n",
       "      <td>75019</td>\n",
       "      <td>39551.0</td>\n",
       "      <td>37.9</td>\n",
       "      <td>110445.0</td>\n",
       "      <td>48040.0</td>\n",
       "      <td>1624.0</td>\n",
       "      <td>4.106091</td>\n",
       "      <td>985.0</td>\n",
       "      <td>Coppell</td>\n",
       "      <td>75019</td>\n",
       "      <td>32.961876</td>\n",
       "      <td>-96.996092</td>\n",
       "    </tr>\n",
       "    <tr>\n",
       "      <td>3</td>\n",
       "      <td>75038</td>\n",
       "      <td>28161.0</td>\n",
       "      <td>30.0</td>\n",
       "      <td>48130.0</td>\n",
       "      <td>28391.0</td>\n",
       "      <td>4581.0</td>\n",
       "      <td>16.267178</td>\n",
       "      <td>1512.0</td>\n",
       "      <td>Irving</td>\n",
       "      <td>75038</td>\n",
       "      <td>32.872152</td>\n",
       "      <td>-96.996092</td>\n",
       "    </tr>\n",
       "    <tr>\n",
       "      <td>4</td>\n",
       "      <td>75039</td>\n",
       "      <td>12197.0</td>\n",
       "      <td>32.2</td>\n",
       "      <td>73503.0</td>\n",
       "      <td>65135.0</td>\n",
       "      <td>819.0</td>\n",
       "      <td>6.714766</td>\n",
       "      <td>264.0</td>\n",
       "      <td>Irving</td>\n",
       "      <td>75039</td>\n",
       "      <td>32.891677</td>\n",
       "      <td>-96.947753</td>\n",
       "    </tr>\n",
       "  </tbody>\n",
       "</table>\n",
       "</div>"
      ],
      "text/plain": [
       "   Zipcode  Population  Median Age  Household Income  Per Capita Income  \\\n",
       "0    75001     13214.0        32.2           57633.0            43919.0   \n",
       "1    75006     47590.0        34.8           56985.0            27010.0   \n",
       "2    75019     39551.0        37.9          110445.0            48040.0   \n",
       "3    75038     28161.0        30.0           48130.0            28391.0   \n",
       "4    75039     12197.0        32.2           73503.0            65135.0   \n",
       "\n",
       "   Poverty Count  Poverty Rate  Unemployment Count        City  zip_code  \\\n",
       "0         1722.0     13.031633               433.0     Addison     75001   \n",
       "1         6927.0     14.555579              1996.0  Carrollton     75006   \n",
       "2         1624.0      4.106091               985.0     Coppell     75019   \n",
       "3         4581.0     16.267178              1512.0      Irving     75038   \n",
       "4          819.0      6.714766               264.0      Irving     75039   \n",
       "\n",
       "         lat        lng  \n",
       "0  32.965478 -96.829740  \n",
       "1  32.967845 -96.888720  \n",
       "2  32.961876 -96.996092  \n",
       "3  32.872152 -96.996092  \n",
       "4  32.891677 -96.947753  "
      ]
     },
     "execution_count": 5,
     "metadata": {},
     "output_type": "execute_result"
    }
   ],
   "source": [
    "zip_merge = pd.merge(census,zips_df,left_on='Zipcode', right_on='zip_code', how='inner')\n",
    "dropped_data = zip_merge.dropna(how=\"any\")\n",
    "\n",
    "dropped_data.head()"
   ]
  },
  {
   "cell_type": "code",
   "execution_count": 6,
   "metadata": {},
   "outputs": [],
   "source": [
    "\n",
    "\n",
    "# Store latitude and longitude in locations\n",
    "locations = dropped_data[[\"lat\", \"lng\"]]\n",
    "\n",
    "#create weights by poverty rate\n",
    "weights = dropped_data['Poverty Rate']\n",
    "\n",
    "\n",
    "\n",
    "\n"
   ]
  },
  {
   "cell_type": "code",
   "execution_count": 7,
   "metadata": {},
   "outputs": [
    {
     "data": {
      "application/vnd.jupyter.widget-view+json": {
       "model_id": "66b98826edfa40ef9b9b1a8a21555ba6",
       "version_major": 2,
       "version_minor": 0
      },
      "text/plain": [
       "Figure(layout=FigureLayout(height='420px'))"
      ]
     },
     "metadata": {},
     "output_type": "display_data"
    }
   ],
   "source": [
    "# Plot Heatmap\n",
    "fig = gmaps.figure()\n",
    "\n",
    "# Add layer\n",
    "fig.add_layer(gmaps.heatmap_layer(locations, weights=weights, max_intensity=20))\n",
    "\n",
    "# Display figure\n",
    "fig"
   ]
  },
  {
   "cell_type": "code",
   "execution_count": null,
   "metadata": {},
   "outputs": [],
   "source": [
    "    "
   ]
  }
 ],
 "metadata": {
  "kernelspec": {
   "display_name": "Python 3",
   "language": "python",
   "name": "python3"
  },
  "language_info": {
   "codemirror_mode": {
    "name": "ipython",
    "version": 3
   },
   "file_extension": ".py",
   "mimetype": "text/x-python",
   "name": "python",
   "nbconvert_exporter": "python",
   "pygments_lexer": "ipython3",
   "version": "3.7.4"
  }
 },
 "nbformat": 4,
 "nbformat_minor": 2
}
