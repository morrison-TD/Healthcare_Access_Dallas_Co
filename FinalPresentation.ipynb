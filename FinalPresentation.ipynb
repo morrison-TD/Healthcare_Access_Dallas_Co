{
 "cells": [
  {
   "cell_type": "code",
   "execution_count": 1,
   "metadata": {},
   "outputs": [],
   "source": [
    "#import dependencies\n",
    "\n",
    "import requests\n",
    "import json\n",
    "import pandas as pd\n",
    "import numpy as np\n",
    "import matplotlib.pyplot as plt\n",
    "import gmaps\n",
    "from config import gkey\n",
    "\n",
    "gmaps.configure(gkey)\n"
   ]
  },
  {
   "cell_type": "code",
   "execution_count": 2,
   "metadata": {
    "scrolled": true
   },
   "outputs": [],
   "source": [
    "#import census data csv for dallas county\n",
    "census = pd.read_csv(\"Resources/DallasCensusData.csv\")\n",
    "\n",
    "#import hospital data csv for dallas county\n",
    "hospitals = pd.read_csv(\"Resources/HospitalLatLong.csv\")\n",
    "\n",
    "#import Clinic Zips\n",
    "clinics_zips=pd.read_csv(\"Resources/ClinicMasterZips.csv\")\n",
    "\n",
    "#import urgent care csv file for dallas county\n",
    "clinics = pd.read_csv(\"Resources/ClinicMasterComplete.csv\")\n"
   ]
  },
  {
   "cell_type": "code",
   "execution_count": 3,
   "metadata": {},
   "outputs": [],
   "source": [
    "#loop through census data to obtain lat and lng for each zipcode\n",
    "zip_codes = [\"75001\",\"75006\",\"75019\",\"75038\",\"75039\",\"75040\",\"75041\",\"75042\",\"75043\",\"75044\",\"75048\",\"75050\",\"75051\",\"75052\",\"75054\",\"75060\",\"75061\",\"75062\",\"75063\",\"75080\",\"75081\",\"75082\",\"75088\",\"75089\",\"75104\",\"75115\",\"75116\",\"75134\",\"75137\",\"75141\",\"75146\",\"75149\",\"75150\",\"75159\",\"75172\",\"75180\",\"75181\",\"75182\",\"75201\",\"75202\",\"75203\",\"75204\",\"75205\",\"75206\",\"75207\",\"75208\",\"75209\",\"75210\",\"75211\",\"75212\",\"75214\",\"75215\",\"75216\",\"75217\",\"75218\",\"75219\",\"75220\",\"75223\",\"75224\",\"75225\",\"75226\",\"75227\",\"75228\",\"75229\",\"75230\",\"75231\",\"75232\",\"75233\",\"75234\",\"75235\",\"75236\",\"75237\",\"75238\",\"75240\",\"75241\",\"75243\",\"75244\",\"75246\",\"75247\",\"75248\",\"75249\",\"75251\",\"75253\",\"75254\",\"75270\",\"75390\"]\n",
    "zip_code_details = []\n",
    "def get_coordinates_per_zipcode(zip_code):\n",
    "    target_county = zip_code\n",
    "    # Build the endpoint URL\n",
    "    target_url = ('https://maps.googleapis.com/maps/api/geocode/json?'\n",
    "        'address={0}&key={1}').format(target_county, gkey)\n",
    "    data = requests.get(target_url).json()\n",
    "    return data\n",
    "for zip_code in zip_codes:\n",
    "    data = get_coordinates_per_zipcode(zip_code)\n",
    "    code = int(data[\"results\"][0][\"address_components\"][0][\"long_name\"])\n",
    "    lat = data[\"results\"][0][\"geometry\"][\"location\"][\"lat\"]\n",
    "    lng = data[\"results\"][0][\"geometry\"][\"location\"][\"lng\"]\n",
    "    zip_code_details.append({\"zip_code\": code, \"lat\": lat, \"lng\":lng})"
   ]
  },
  {
   "cell_type": "code",
   "execution_count": 4,
   "metadata": {},
   "outputs": [
    {
     "data": {
      "text/html": [
       "<div>\n",
       "<style scoped>\n",
       "    .dataframe tbody tr th:only-of-type {\n",
       "        vertical-align: middle;\n",
       "    }\n",
       "\n",
       "    .dataframe tbody tr th {\n",
       "        vertical-align: top;\n",
       "    }\n",
       "\n",
       "    .dataframe thead th {\n",
       "        text-align: right;\n",
       "    }\n",
       "</style>\n",
       "<table border=\"1\" class=\"dataframe\">\n",
       "  <thead>\n",
       "    <tr style=\"text-align: right;\">\n",
       "      <th></th>\n",
       "      <th>zip_code</th>\n",
       "      <th>lat</th>\n",
       "      <th>lng</th>\n",
       "    </tr>\n",
       "  </thead>\n",
       "  <tbody>\n",
       "    <tr>\n",
       "      <td>0</td>\n",
       "      <td>75001</td>\n",
       "      <td>32.965478</td>\n",
       "      <td>-96.829740</td>\n",
       "    </tr>\n",
       "    <tr>\n",
       "      <td>1</td>\n",
       "      <td>75006</td>\n",
       "      <td>32.967845</td>\n",
       "      <td>-96.888720</td>\n",
       "    </tr>\n",
       "    <tr>\n",
       "      <td>2</td>\n",
       "      <td>75019</td>\n",
       "      <td>32.961876</td>\n",
       "      <td>-96.996092</td>\n",
       "    </tr>\n",
       "    <tr>\n",
       "      <td>3</td>\n",
       "      <td>75038</td>\n",
       "      <td>32.872152</td>\n",
       "      <td>-96.996092</td>\n",
       "    </tr>\n",
       "    <tr>\n",
       "      <td>4</td>\n",
       "      <td>75039</td>\n",
       "      <td>32.891677</td>\n",
       "      <td>-96.947753</td>\n",
       "    </tr>\n",
       "  </tbody>\n",
       "</table>\n",
       "</div>"
      ],
      "text/plain": [
       "   zip_code        lat        lng\n",
       "0     75001  32.965478 -96.829740\n",
       "1     75006  32.967845 -96.888720\n",
       "2     75019  32.961876 -96.996092\n",
       "3     75038  32.872152 -96.996092\n",
       "4     75039  32.891677 -96.947753"
      ]
     },
     "execution_count": 4,
     "metadata": {},
     "output_type": "execute_result"
    }
   ],
   "source": [
    "#create dataframe of the lat and lng of the census data zipcodes\n",
    "zips_df = pd.DataFrame(zip_code_details, columns = [\"zip_code\",\"lat\",\"lng\"])\n",
    "zips_df.head()"
   ]
  },
  {
   "cell_type": "code",
   "execution_count": 5,
   "metadata": {},
   "outputs": [
    {
     "data": {
      "text/html": [
       "<div>\n",
       "<style scoped>\n",
       "    .dataframe tbody tr th:only-of-type {\n",
       "        vertical-align: middle;\n",
       "    }\n",
       "\n",
       "    .dataframe tbody tr th {\n",
       "        vertical-align: top;\n",
       "    }\n",
       "\n",
       "    .dataframe thead th {\n",
       "        text-align: right;\n",
       "    }\n",
       "</style>\n",
       "<table border=\"1\" class=\"dataframe\">\n",
       "  <thead>\n",
       "    <tr style=\"text-align: right;\">\n",
       "      <th></th>\n",
       "      <th>Zipcode</th>\n",
       "      <th>Population</th>\n",
       "      <th>Median Age</th>\n",
       "      <th>Household Income</th>\n",
       "      <th>Per Capita Income</th>\n",
       "      <th>Poverty Count</th>\n",
       "      <th>Poverty Rate</th>\n",
       "      <th>Unemployment Count</th>\n",
       "      <th>City</th>\n",
       "      <th>zip_code</th>\n",
       "      <th>lat</th>\n",
       "      <th>lng</th>\n",
       "    </tr>\n",
       "  </thead>\n",
       "  <tbody>\n",
       "    <tr>\n",
       "      <td>0</td>\n",
       "      <td>75001</td>\n",
       "      <td>13214.0</td>\n",
       "      <td>32.2</td>\n",
       "      <td>57633.0</td>\n",
       "      <td>43919.0</td>\n",
       "      <td>1722.0</td>\n",
       "      <td>13.031633</td>\n",
       "      <td>433.0</td>\n",
       "      <td>Addison</td>\n",
       "      <td>75001</td>\n",
       "      <td>32.965478</td>\n",
       "      <td>-96.829740</td>\n",
       "    </tr>\n",
       "    <tr>\n",
       "      <td>1</td>\n",
       "      <td>75006</td>\n",
       "      <td>47590.0</td>\n",
       "      <td>34.8</td>\n",
       "      <td>56985.0</td>\n",
       "      <td>27010.0</td>\n",
       "      <td>6927.0</td>\n",
       "      <td>14.555579</td>\n",
       "      <td>1996.0</td>\n",
       "      <td>Carrollton</td>\n",
       "      <td>75006</td>\n",
       "      <td>32.967845</td>\n",
       "      <td>-96.888720</td>\n",
       "    </tr>\n",
       "    <tr>\n",
       "      <td>2</td>\n",
       "      <td>75019</td>\n",
       "      <td>39551.0</td>\n",
       "      <td>37.9</td>\n",
       "      <td>110445.0</td>\n",
       "      <td>48040.0</td>\n",
       "      <td>1624.0</td>\n",
       "      <td>4.106091</td>\n",
       "      <td>985.0</td>\n",
       "      <td>Coppell</td>\n",
       "      <td>75019</td>\n",
       "      <td>32.961876</td>\n",
       "      <td>-96.996092</td>\n",
       "    </tr>\n",
       "    <tr>\n",
       "      <td>3</td>\n",
       "      <td>75038</td>\n",
       "      <td>28161.0</td>\n",
       "      <td>30.0</td>\n",
       "      <td>48130.0</td>\n",
       "      <td>28391.0</td>\n",
       "      <td>4581.0</td>\n",
       "      <td>16.267178</td>\n",
       "      <td>1512.0</td>\n",
       "      <td>Irving</td>\n",
       "      <td>75038</td>\n",
       "      <td>32.872152</td>\n",
       "      <td>-96.996092</td>\n",
       "    </tr>\n",
       "    <tr>\n",
       "      <td>4</td>\n",
       "      <td>75039</td>\n",
       "      <td>12197.0</td>\n",
       "      <td>32.2</td>\n",
       "      <td>73503.0</td>\n",
       "      <td>65135.0</td>\n",
       "      <td>819.0</td>\n",
       "      <td>6.714766</td>\n",
       "      <td>264.0</td>\n",
       "      <td>Irving</td>\n",
       "      <td>75039</td>\n",
       "      <td>32.891677</td>\n",
       "      <td>-96.947753</td>\n",
       "    </tr>\n",
       "  </tbody>\n",
       "</table>\n",
       "</div>"
      ],
      "text/plain": [
       "   Zipcode  Population  Median Age  Household Income  Per Capita Income  \\\n",
       "0    75001     13214.0        32.2           57633.0            43919.0   \n",
       "1    75006     47590.0        34.8           56985.0            27010.0   \n",
       "2    75019     39551.0        37.9          110445.0            48040.0   \n",
       "3    75038     28161.0        30.0           48130.0            28391.0   \n",
       "4    75039     12197.0        32.2           73503.0            65135.0   \n",
       "\n",
       "   Poverty Count  Poverty Rate  Unemployment Count        City  zip_code  \\\n",
       "0         1722.0     13.031633               433.0     Addison     75001   \n",
       "1         6927.0     14.555579              1996.0  Carrollton     75006   \n",
       "2         1624.0      4.106091               985.0     Coppell     75019   \n",
       "3         4581.0     16.267178              1512.0      Irving     75038   \n",
       "4          819.0      6.714766               264.0      Irving     75039   \n",
       "\n",
       "         lat        lng  \n",
       "0  32.965478 -96.829740  \n",
       "1  32.967845 -96.888720  \n",
       "2  32.961876 -96.996092  \n",
       "3  32.872152 -96.996092  \n",
       "4  32.891677 -96.947753  "
      ]
     },
     "execution_count": 5,
     "metadata": {},
     "output_type": "execute_result"
    }
   ],
   "source": [
    "#merge original census file with new zip_df to include lat and lng\n",
    "zip_merge = pd.merge(census,zips_df,left_on='Zipcode', right_on='zip_code', how='inner')\n",
    "\n",
    "#drop NaN values\n",
    "dropped_data = zip_merge.dropna(how=\"any\")\n",
    "\n",
    "dropped_data.head()"
   ]
  },
  {
   "cell_type": "code",
   "execution_count": 6,
   "metadata": {},
   "outputs": [
    {
     "data": {
      "image/png": "[encoded data removed]",
      "text/plain": [
       "<Figure size 432x288 with 1 Axes>"
      ]
     },
     "metadata": {},
     "output_type": "display_data"
    }
   ],
   "source": [
    "# Labels for the sections of our pie chart\n",
    "labels = [\"Hospitals\", \"Urgent Care\"]\n",
    "\n",
    "# The values of each section of the pie chart\n",
    "sizes = [27, 60]\n",
    "\n",
    "# The colors of each section of the pie chart\n",
    "colors = [\"red\", \"blue\"]\n",
    "\n",
    "# Tells matplotlib to seperate the \"Python\" section from the others\n",
    "explode = (0.1, 0)\n",
    "\n",
    "# Creates the pie chart based upon the values above\n",
    "# Automatically finds the percentages of each part of the pie chart\n",
    "plt.pie(sizes, explode=explode, labels=labels, colors=colors,\n",
    "        autopct=\"%1.1f%%\", shadow=True, startangle=140)\n",
    "\n",
    "\n",
    "# Tells matplotlib that we want a pie chart with equal axes\n",
    "plt.axis(\"equal\")\n",
    "\n",
    "plt.savefig(\"images/PieChart.png\")"
   ]
  },
  {
   "cell_type": "code",
   "execution_count": 7,
   "metadata": {
    "scrolled": true
   },
   "outputs": [
    {
     "data": {
      "application/vnd.jupyter.widget-view+json": {
       "model_id": "c54923d6d9a84a27a8ecd7e11d0db14b",
       "version_major": 2,
       "version_minor": 0
      },
      "text/plain": [
       "Figure(layout=FigureLayout(height='420px'))"
      ]
     },
     "metadata": {},
     "output_type": "display_data"
    }
   ],
   "source": [
    "#Map hospitals in dallas county\n",
    "hospital_loc = hospitals[[\"lat\",\"lng\"]]\n",
    "hospital_name = hospitals[\"Hospital Name\"]\n",
    "hospital_layer = gmaps.symbol_layer(\n",
    "   hospital_loc,hospital_name, fill_color='red', stroke_color='red', scale=3)\n",
    "fig = gmaps.figure()\n",
    "fig.add_layer(hospital_layer)\n",
    "fig\n",
    "\n"
   ]
  },
  {
   "cell_type": "markdown",
   "metadata": {},
   "source": [
    "![Dallas County Hospital Map](images/HospitalMap.png)"
   ]
  },
  {
   "cell_type": "code",
   "execution_count": 8,
   "metadata": {
    "scrolled": true
   },
   "outputs": [
    {
     "data": {
      "application/vnd.jupyter.widget-view+json": {
       "model_id": "7f619779c92c4be18d18597bc00b1d51",
       "version_major": 2,
       "version_minor": 0
      },
      "text/plain": [
       "Figure(layout=FigureLayout(height='420px'))"
      ]
     },
     "metadata": {},
     "output_type": "display_data"
    }
   ],
   "source": [
    "#Map Urgent Cares in Dallas County\n",
    "#Urgent Care CSV\n",
    "uc_clinic = clinics[[\"Lat\",\"Lng\"]]\n",
    "\n",
    "# HINT: be sure to handle NaN values\n",
    "care_name = clinics[\"Urgent_Care\"]\n",
    "clinic_layer = gmaps.symbol_layer(\n",
    "   uc_clinic, care_name, fill_color='blue', stroke_color='blue', scale=3)\n",
    "fig = gmaps.figure()\n",
    "fig.add_layer(clinic_layer)\n",
    "fig"
   ]
  },
  {
   "cell_type": "code",
   "execution_count": 17,
   "metadata": {},
   "outputs": [
    {
     "name": "stdout",
     "output_type": "stream",
     "text": [
      "/bin/sh: -c: line 0: syntax error near unexpected token `('\r\n",
      "/bin/sh: -c: line 0: `[Dallas County Clinics Map](images/UrgentCaresDallasCounty.png)'\r\n"
     ]
    }
   ],
   "source": [
    "![Dallas County Clinics Map](images/UrgentCaresDallasCounty.png)"
   ]
  },
  {
   "cell_type": "code",
   "execution_count": 9,
   "metadata": {
    "scrolled": false
   },
   "outputs": [
    {
     "data": {
      "application/vnd.jupyter.widget-view+json": {
       "model_id": "9721b758d39143e4ba36202bc4bbe8f9",
       "version_major": 2,
       "version_minor": 0
      },
      "text/plain": [
       "Figure(layout=FigureLayout(height='420px'))"
      ]
     },
     "metadata": {},
     "output_type": "display_data"
    }
   ],
   "source": [
    "# Store latitude and longitude in locations\n",
    "locations = dropped_data[[\"lat\", \"lng\"]]\n",
    "\n",
    "#create weights by poverty rate\n",
    "weights = dropped_data['Poverty Rate']\n",
    "\n",
    "# Plot Heatmap\n",
    "fig = gmaps.figure()\n",
    "\n",
    "# Add layer\n",
    "fig.add_layer(gmaps.heatmap_layer(locations, weights=weights, max_intensity=20))\n",
    "\n",
    "# Display figure\n",
    "fig"
   ]
  },
  {
   "cell_type": "code",
   "execution_count": 18,
   "metadata": {},
   "outputs": [
    {
     "name": "stdout",
     "output_type": "stream",
     "text": [
      "/bin/sh: -c: line 0: syntax error near unexpected token `('\r\n",
      "/bin/sh: -c: line 0: `[Dallas County Poverty Heatmap ](images/PovertyHeatMap.png)'\r\n"
     ]
    }
   ],
   "source": [
    "![Dallas County Poverty Heatmap ](images/PovertyHeatMap.png)"
   ]
  },
  {
   "cell_type": "code",
   "execution_count": 10,
   "metadata": {},
   "outputs": [
    {
     "data": {
      "text/html": [
       "<div>\n",
       "<style scoped>\n",
       "    .dataframe tbody tr th:only-of-type {\n",
       "        vertical-align: middle;\n",
       "    }\n",
       "\n",
       "    .dataframe tbody tr th {\n",
       "        vertical-align: top;\n",
       "    }\n",
       "\n",
       "    .dataframe thead th {\n",
       "        text-align: right;\n",
       "    }\n",
       "</style>\n",
       "<table border=\"1\" class=\"dataframe\">\n",
       "  <thead>\n",
       "    <tr style=\"text-align: right;\">\n",
       "      <th></th>\n",
       "      <th>Zipcode</th>\n",
       "      <th>Population</th>\n",
       "      <th>Median Age</th>\n",
       "      <th>Household Income</th>\n",
       "      <th>Per Capita Income</th>\n",
       "      <th>Poverty Count</th>\n",
       "      <th>Poverty Rate</th>\n",
       "      <th>Unemployment Count</th>\n",
       "      <th>City</th>\n",
       "      <th>Hospital Name</th>\n",
       "      <th>lat</th>\n",
       "      <th>lng</th>\n",
       "    </tr>\n",
       "  </thead>\n",
       "  <tbody>\n",
       "    <tr>\n",
       "      <td>0</td>\n",
       "      <td>75001</td>\n",
       "      <td>13214.0</td>\n",
       "      <td>32.2</td>\n",
       "      <td>57633.0</td>\n",
       "      <td>43919.0</td>\n",
       "      <td>1722.0</td>\n",
       "      <td>13.031633</td>\n",
       "      <td>433.0</td>\n",
       "      <td>Addison</td>\n",
       "      <td>methodist hospital for surgery</td>\n",
       "      <td>32.984699</td>\n",
       "      <td>-96.829301</td>\n",
       "    </tr>\n",
       "    <tr>\n",
       "      <td>1</td>\n",
       "      <td>75006</td>\n",
       "      <td>47590.0</td>\n",
       "      <td>34.8</td>\n",
       "      <td>56985.0</td>\n",
       "      <td>27010.0</td>\n",
       "      <td>6927.0</td>\n",
       "      <td>14.555579</td>\n",
       "      <td>1996.0</td>\n",
       "      <td>Carrollton</td>\n",
       "      <td>first texas hospital carrollton llc</td>\n",
       "      <td>32.985613</td>\n",
       "      <td>-96.898462</td>\n",
       "    </tr>\n",
       "    <tr>\n",
       "      <td>2</td>\n",
       "      <td>75039</td>\n",
       "      <td>12197.0</td>\n",
       "      <td>32.2</td>\n",
       "      <td>73503.0</td>\n",
       "      <td>65135.0</td>\n",
       "      <td>819.0</td>\n",
       "      <td>6.714766</td>\n",
       "      <td>264.0</td>\n",
       "      <td>Irving</td>\n",
       "      <td>medical city las colinas</td>\n",
       "      <td>32.901674</td>\n",
       "      <td>-96.957155</td>\n",
       "    </tr>\n",
       "    <tr>\n",
       "      <td>3</td>\n",
       "      <td>75051</td>\n",
       "      <td>41345.0</td>\n",
       "      <td>29.4</td>\n",
       "      <td>40107.0</td>\n",
       "      <td>16077.0</td>\n",
       "      <td>9865.0</td>\n",
       "      <td>23.860201</td>\n",
       "      <td>2442.0</td>\n",
       "      <td>Grand Prairie</td>\n",
       "      <td>texas general hospital</td>\n",
       "      <td>32.732994</td>\n",
       "      <td>-97.049902</td>\n",
       "    </tr>\n",
       "    <tr>\n",
       "      <td>4</td>\n",
       "      <td>75061</td>\n",
       "      <td>53233.0</td>\n",
       "      <td>30.6</td>\n",
       "      <td>40084.0</td>\n",
       "      <td>17739.0</td>\n",
       "      <td>11404.0</td>\n",
       "      <td>21.422802</td>\n",
       "      <td>2247.0</td>\n",
       "      <td>Irving</td>\n",
       "      <td>baylor medical center at irving</td>\n",
       "      <td>32.835136</td>\n",
       "      <td>-96.960635</td>\n",
       "    </tr>\n",
       "  </tbody>\n",
       "</table>\n",
       "</div>"
      ],
      "text/plain": [
       "   Zipcode  Population  Median Age  Household Income  Per Capita Income  \\\n",
       "0    75001     13214.0        32.2           57633.0            43919.0   \n",
       "1    75006     47590.0        34.8           56985.0            27010.0   \n",
       "2    75039     12197.0        32.2           73503.0            65135.0   \n",
       "3    75051     41345.0        29.4           40107.0            16077.0   \n",
       "4    75061     53233.0        30.6           40084.0            17739.0   \n",
       "\n",
       "   Poverty Count  Poverty Rate  Unemployment Count           City  \\\n",
       "0         1722.0     13.031633               433.0        Addison   \n",
       "1         6927.0     14.555579              1996.0     Carrollton   \n",
       "2          819.0      6.714766               264.0         Irving   \n",
       "3         9865.0     23.860201              2442.0  Grand Prairie   \n",
       "4        11404.0     21.422802              2247.0         Irving   \n",
       "\n",
       "                         Hospital Name        lat        lng  \n",
       "0       methodist hospital for surgery  32.984699 -96.829301  \n",
       "1  first texas hospital carrollton llc  32.985613 -96.898462  \n",
       "2             medical city las colinas  32.901674 -96.957155  \n",
       "3               texas general hospital  32.732994 -97.049902  \n",
       "4      baylor medical center at irving  32.835136 -96.960635  "
      ]
     },
     "execution_count": 10,
     "metadata": {},
     "output_type": "execute_result"
    }
   ],
   "source": [
    "#merge hospital and census data to create \n",
    "\n",
    "zip_hsp_merge_df = pd.merge(census,hospitals,left_on='Zipcode', right_on='Zipcode', how='inner')\n",
    "zip_hsp_merge_df.head()"
   ]
  },
  {
   "cell_type": "code",
   "execution_count": 11,
   "metadata": {
    "scrolled": true
   },
   "outputs": [
    {
     "name": "stdout",
     "output_type": "stream",
     "text": [
      "[{'Household Income': -666666666.0, 'Hospital Name': 'ut southwestern university hospital'}, {'Household Income': -666666666.0, 'Hospital Name': 'ut southwestern university hospital-zale lipshy'}]\n"
     ]
    },
    {
     "data": {
      "image/png": "[encoded data removed]",
      "text/plain": [
       "<Figure size 432x288 with 1 Axes>"
      ]
     },
     "metadata": {
      "needs_background": "light"
     },
     "output_type": "display_data"
    }
   ],
   "source": [
    "#creating hospital bar chart by income level\n",
    "results = {\n",
    "        'Low':[],\n",
    "    'Moderate':[],\n",
    "    'High': []\n",
    "}\n",
    "for i, row in zip_hsp_merge_df.iterrows():\n",
    "    if int(row[\"Household Income\"]) <= 24950:\n",
    "        results[\"Low\"].append({'Household Income':row['Household Income'], 'Hospital Name':row['Hospital Name']})\n",
    "    elif int(row[\"Household Income\"]) >= 24951 and int(row[\"Household Income\"]) <= 41550:\n",
    "        results[\"Moderate\"].append({'Household Income':row['Household Income'], 'Hospital Name':row['Hospital Name']})\n",
    "    else:\n",
    "         results[\"High\"].append({'Household Income':row['Household Income'], 'Hospital Name':row['Hospital Name']})\n",
    "    \n",
    "print(results['Low'])\n",
    "# zip_hsp_merge_df = results\n",
    "#zip_hsp_merge_df[\"Income Bracket\"] = results\n",
    "zip_hsp_merge_df['Hospital Name'].value_counts()\n",
    "\n",
    "#hospital bar chart axis and legend\n",
    "y_axis = np.arange(len(('Low', 'Moderate', 'High')))\n",
    "x_axis = [len(results[\"Low\"]),len(results[\"Moderate\"]),len(results[\"High\"])]\n",
    "plt.bar(y_axis,x_axis, color=\"r\", align=\"center\")\n",
    "#tick_locations = [value for value in x_axis]\n",
    "plt.xticks(y_axis, ['Low','Moderate','High'])\n",
    "\n",
    "plt.ylabel(\"Hospital Count\")\n",
    "plt.xlabel(\"Income Level\")\n",
    "plt.title(\"Number of Hospital by Income Level\")\n",
    "\n",
    "plt.savefig(\"images/HospitalsbyIncomeLevelBar.png\")"
   ]
  },
  {
   "cell_type": "code",
   "execution_count": null,
   "metadata": {},
   "outputs": [],
   "source": []
  },
  {
   "cell_type": "code",
   "execution_count": 12,
   "metadata": {},
   "outputs": [
    {
     "data": {
      "text/html": [
       "<div>\n",
       "<style scoped>\n",
       "    .dataframe tbody tr th:only-of-type {\n",
       "        vertical-align: middle;\n",
       "    }\n",
       "\n",
       "    .dataframe tbody tr th {\n",
       "        vertical-align: top;\n",
       "    }\n",
       "\n",
       "    .dataframe thead th {\n",
       "        text-align: right;\n",
       "    }\n",
       "</style>\n",
       "<table border=\"1\" class=\"dataframe\">\n",
       "  <thead>\n",
       "    <tr style=\"text-align: right;\">\n",
       "      <th></th>\n",
       "      <th>Zipcode</th>\n",
       "      <th>Population</th>\n",
       "      <th>Median Age</th>\n",
       "      <th>Household Income</th>\n",
       "      <th>Per Capita Income</th>\n",
       "      <th>Poverty Count</th>\n",
       "      <th>Poverty Rate</th>\n",
       "      <th>Unemployment Count</th>\n",
       "      <th>City_x</th>\n",
       "      <th>Urgent_Care</th>\n",
       "      <th>Address</th>\n",
       "      <th>City_y</th>\n",
       "      <th>Location</th>\n",
       "    </tr>\n",
       "  </thead>\n",
       "  <tbody>\n",
       "    <tr>\n",
       "      <td>0</td>\n",
       "      <td>75019</td>\n",
       "      <td>39551.0</td>\n",
       "      <td>37.9</td>\n",
       "      <td>110445.0</td>\n",
       "      <td>48040.0</td>\n",
       "      <td>1624.0</td>\n",
       "      <td>4.106091</td>\n",
       "      <td>985.0</td>\n",
       "      <td>Coppell</td>\n",
       "      <td>Legacy ER &amp; Urgent Care</td>\n",
       "      <td>330 S Denton Tap Rd</td>\n",
       "      <td>Coppell</td>\n",
       "      <td>{'lat': 32.9621369, 'lng': -96.9930727}</td>\n",
       "    </tr>\n",
       "    <tr>\n",
       "      <td>1</td>\n",
       "      <td>75040</td>\n",
       "      <td>59792.0</td>\n",
       "      <td>32.4</td>\n",
       "      <td>54664.0</td>\n",
       "      <td>20387.0</td>\n",
       "      <td>9346.0</td>\n",
       "      <td>15.630854</td>\n",
       "      <td>3054.0</td>\n",
       "      <td>Garland</td>\n",
       "      <td>CareNow Urgent Care - North Garland</td>\n",
       "      <td>5106 N President George Bush Hwy</td>\n",
       "      <td>Garland</td>\n",
       "      <td>{'lat': 32.964361, 'lng': -96.63803809999999}</td>\n",
       "    </tr>\n",
       "    <tr>\n",
       "      <td>2</td>\n",
       "      <td>75041</td>\n",
       "      <td>30684.0</td>\n",
       "      <td>30.9</td>\n",
       "      <td>40136.0</td>\n",
       "      <td>16646.0</td>\n",
       "      <td>6975.0</td>\n",
       "      <td>22.731717</td>\n",
       "      <td>1659.0</td>\n",
       "      <td>Garland</td>\n",
       "      <td>FastMed Urgent Care</td>\n",
       "      <td>1015 W Centerville Rd #100</td>\n",
       "      <td>Garland</td>\n",
       "      <td>{'lat': 32.8588637, 'lng': -96.6463575}</td>\n",
       "    </tr>\n",
       "    <tr>\n",
       "      <td>3</td>\n",
       "      <td>75043</td>\n",
       "      <td>58120.0</td>\n",
       "      <td>34.0</td>\n",
       "      <td>55149.0</td>\n",
       "      <td>24046.0</td>\n",
       "      <td>6512.0</td>\n",
       "      <td>11.204405</td>\n",
       "      <td>3233.0</td>\n",
       "      <td>Garland</td>\n",
       "      <td>Raypha Urgent Care &amp; Clinics</td>\n",
       "      <td>3334 Broadway Blvd</td>\n",
       "      <td>Garland</td>\n",
       "      <td>{'lat': 32.8752783, 'lng': -96.6170253}</td>\n",
       "    </tr>\n",
       "    <tr>\n",
       "      <td>4</td>\n",
       "      <td>75048</td>\n",
       "      <td>20930.0</td>\n",
       "      <td>37.3</td>\n",
       "      <td>87171.0</td>\n",
       "      <td>34473.0</td>\n",
       "      <td>1081.0</td>\n",
       "      <td>5.164835</td>\n",
       "      <td>697.0</td>\n",
       "      <td>Sachse</td>\n",
       "      <td>MedPost Urgent Care of Sachse</td>\n",
       "      <td>7760 TX-78</td>\n",
       "      <td>Sachse</td>\n",
       "      <td>{'lat': 32.990976, 'lng': -96.5714723}</td>\n",
       "    </tr>\n",
       "  </tbody>\n",
       "</table>\n",
       "</div>"
      ],
      "text/plain": [
       "   Zipcode  Population  Median Age  Household Income  Per Capita Income  \\\n",
       "0    75019     39551.0        37.9          110445.0            48040.0   \n",
       "1    75040     59792.0        32.4           54664.0            20387.0   \n",
       "2    75041     30684.0        30.9           40136.0            16646.0   \n",
       "3    75043     58120.0        34.0           55149.0            24046.0   \n",
       "4    75048     20930.0        37.3           87171.0            34473.0   \n",
       "\n",
       "   Poverty Count  Poverty Rate  Unemployment Count   City_x  \\\n",
       "0         1624.0      4.106091               985.0  Coppell   \n",
       "1         9346.0     15.630854              3054.0  Garland   \n",
       "2         6975.0     22.731717              1659.0  Garland   \n",
       "3         6512.0     11.204405              3233.0  Garland   \n",
       "4         1081.0      5.164835               697.0   Sachse   \n",
       "\n",
       "                           Urgent_Care                           Address  \\\n",
       "0              Legacy ER & Urgent Care               330 S Denton Tap Rd   \n",
       "1  CareNow Urgent Care - North Garland  5106 N President George Bush Hwy   \n",
       "2                  FastMed Urgent Care        1015 W Centerville Rd #100   \n",
       "3         Raypha Urgent Care & Clinics                3334 Broadway Blvd   \n",
       "4        MedPost Urgent Care of Sachse                        7760 TX-78   \n",
       "\n",
       "    City_y                                       Location  \n",
       "0  Coppell        {'lat': 32.9621369, 'lng': -96.9930727}  \n",
       "1  Garland  {'lat': 32.964361, 'lng': -96.63803809999999}  \n",
       "2  Garland        {'lat': 32.8588637, 'lng': -96.6463575}  \n",
       "3  Garland        {'lat': 32.8752783, 'lng': -96.6170253}  \n",
       "4   Sachse         {'lat': 32.990976, 'lng': -96.5714723}  "
      ]
     },
     "execution_count": 12,
     "metadata": {},
     "output_type": "execute_result"
    }
   ],
   "source": [
    "zip_urg_merge_df = pd.merge(census,clinics_zips,left_on='Zipcode', right_on='Zipcode', how='inner')\n",
    "zip_urg_merge_df.head()"
   ]
  },
  {
   "cell_type": "code",
   "execution_count": 13,
   "metadata": {},
   "outputs": [
    {
     "name": "stdout",
     "output_type": "stream",
     "text": [
      "[]\n"
     ]
    },
    {
     "data": {
      "image/png": "[encoded data removed]",
      "text/plain": [
       "<Figure size 432x288 with 1 Axes>"
      ]
     },
     "metadata": {
      "needs_background": "light"
     },
     "output_type": "display_data"
    }
   ],
   "source": [
    "#creating urgent bar chart by income level\n",
    "results = {\n",
    "        'Low':[],\n",
    "    'Moderate':[],\n",
    "    'High': []\n",
    "}\n",
    "for i, row in zip_urg_merge_df.iterrows():\n",
    "    if int(row[\"Household Income\"]) <= 24950:\n",
    "        results[\"Low\"].append({'Household Income':row['Household Income'], 'Urgent Care':row['Urgent_Care']})\n",
    "    elif int(row[\"Household Income\"]) >= 24951 and int(row[\"Household Income\"]) <= 41550:\n",
    "        results[\"Moderate\"].append({'Household Income':row['Household Income'], 'Urgent Care':row['Urgent_Care']})\n",
    "    else:\n",
    "         results[\"High\"].append({'Household Income':row['Household Income'], 'Urgent Care':row['Urgent_Care']})\n",
    "    \n",
    "print(results['Low'])\n",
    "# zip_hsp_merge_df = results\n",
    "#zip_hsp_merge_df[\"Income Bracket\"] = results\n",
    "zip_urg_merge_df['Urgent_Care'].value_counts()\n",
    "\n",
    "#urgent care x and y axis and legends\n",
    "y_axis = np.arange(len(('Low', 'Moderate', 'High')))\n",
    "x_axis = [len(results[\"Low\"]),len(results[\"Moderate\"]),len(results[\"High\"])]\n",
    "plt.bar(y_axis,x_axis, color=\"b\", align=\"center\")\n",
    "#tick_locations = [value for value in x_axis]\n",
    "plt.xticks(y_axis, ['Low','Moderate','High'])\n",
    "\n",
    "plt.ylabel('Urgent Care Count')\n",
    "plt.title('Number of Ugent Care by Income Level')\n",
    "plt.xlabel('Income Level')\n",
    "\n",
    "plt.savefig(\"images/UrgentCarebyIncomeLevelBar.png\")"
   ]
  },
  {
   "cell_type": "code",
   "execution_count": 14,
   "metadata": {},
   "outputs": [
    {
     "data": {
      "application/vnd.jupyter.widget-view+json": {
       "model_id": "d89e405df73c4ddfaaa6fcbfa12b9e29",
       "version_major": 2,
       "version_minor": 0
      },
      "text/plain": [
       "Figure(layout=FigureLayout(height='420px'))"
      ]
     },
     "metadata": {},
     "output_type": "display_data"
    }
   ],
   "source": [
    "#Hospitals AND clinics\n",
    "\n",
    "hospital_df = hospitals[hospitals['Hospital Name'] == 'hospital']\n",
    "hospital_df = hospitals[[\"lat\",\"lng\"]]\n",
    "\n",
    "clinics_df = clinics[clinics['Urgent_Care'] == 'clinic']\n",
    "clinics_df = clinics[[\"Lat\",\"Lng\"]]\n",
    "\n",
    "\n",
    "hospital_layer2 = gmaps.symbol_layer(\n",
    "    hospital_df, fill_color='red',\n",
    "    stroke_color='red', scale=3\n",
    ")\n",
    "\n",
    "clinic_layer2 = gmaps.symbol_layer(\n",
    "    clinics_df, fill_color='blue',\n",
    "    stroke_color='blue', scale=3\n",
    ")\n",
    "\n",
    "# Store latitude and longitude in locations\n",
    "locations2 = dropped_data[[\"lat\", \"lng\"]]\n",
    "\n",
    "#create weights by poverty rate\n",
    "weights = dropped_data['Poverty Rate']\n",
    "\n",
    "\n",
    "\n",
    "# Add layer\n",
    "fig = gmaps.figure()\n",
    "\n",
    "fig.add_layer(gmaps.heatmap_layer(locations2, weights=weights, max_intensity=20))\n",
    "fig.add_layer(hospital_layer2)\n",
    "fig.add_layer(clinic_layer2)\n",
    "# Display figure\n",
    "\n",
    "fig\n"
   ]
  }
 ],
 "metadata": {
  "kernelspec": {
   "display_name": "Python 3",
   "language": "python",
   "name": "python3"
  },
  "language_info": {
   "codemirror_mode": {
    "name": "ipython",
    "version": 3
   },
   "file_extension": ".py",
   "mimetype": "text/x-python",
   "name": "python",
   "nbconvert_exporter": "python",
   "pygments_lexer": "ipython3",
   "version": "3.7.4"
  }
 },
 "nbformat": 4,
 "nbformat_minor": 2
}
